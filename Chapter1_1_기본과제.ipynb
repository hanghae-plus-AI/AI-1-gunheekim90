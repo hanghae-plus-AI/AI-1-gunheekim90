{
  "nbformat": 4,
  "nbformat_minor": 0,
  "metadata": {
    "colab": {
      "provenance": [],
      "gpuType": "T4",
      "include_colab_link": true
    },
    "kernelspec": {
      "name": "python3",
      "display_name": "Python 3"
    },
    "language_info": {
      "name": "python"
    },
    "accelerator": "GPU"
  },
  "cells": [
    {
      "cell_type": "markdown",
      "metadata": {
        "id": "view-in-github",
        "colab_type": "text"
      },
      "source": [
        "<a href=\"https://colab.research.google.com/github/hanghae-plus-AI/AI-1-gunheekim90/blob/main/Chapter1_1_%EA%B8%B0%EB%B3%B8%EA%B3%BC%EC%A0%9C.ipynb\" target=\"_parent\"><img src=\"https://colab.research.google.com/assets/colab-badge.svg\" alt=\"Open In Colab\"/></a>"
      ]
    },
    {
      "cell_type": "markdown",
      "source": [
        "# MNIST 실습\n",
        "\n",
        "이번에는 28x28 흑백 손글씨 이미지를 보고 0~9 사이의 숫자 중 어떤 숫자를 쓴 것인지 예측하는 문제를 실습합니다.\n",
        "이번 실습에서는 GPU를 활용할 것이기 때문에, 이전 챕터에서 Colab에서 GPU를 설정하는 방법을 따라해주시길 바랍니다.\n",
        "\n",
        "GPU를 설정했으면 library들을 import합니다."
      ],
      "metadata": {
        "id": "OPJenlrhihrh"
      }
    },
    {
      "cell_type": "code",
      "execution_count": null,
      "metadata": {
        "id": "6lXVfXoDtoQh"
      },
      "outputs": [],
      "source": [
        "import torch\n",
        "import torchvision\n",
        "import torchvision.transforms as transforms"
      ]
    },
    {
      "cell_type": "markdown",
      "source": [
        "다음은 dataset을 준비합니다. 손글씨 dataset은 MNIST라는 유명한 dataset이 있습니다. 이 dataset은 `torchvision`에서 제공하고 있으며, 다음과 같이 다운로드 받을 수 있습니다."
      ],
      "metadata": {
        "id": "pF-1zQvmiult"
      }
    },
    {
      "cell_type": "code",
      "source": [
        "transform = transforms.ToTensor()\n",
        "\n",
        "trainset = torchvision.datasets.MNIST(\n",
        "    root='./data',\n",
        "    train=True,\n",
        "    download=True,\n",
        "    transform=transform\n",
        ")"
      ],
      "metadata": {
        "id": "KAYlqPaRt6ti"
      },
      "execution_count": null,
      "outputs": []
    },
    {
      "cell_type": "code",
      "source": [
        "testset = torchvision.datasets.MNIST(\n",
        "    root='./data',\n",
        "    train=False,\n",
        "    download=True,\n",
        "    transform=transform\n",
        ")"
      ],
      "metadata": {
        "id": "kHu9tZsT8fxB"
      },
      "execution_count": null,
      "outputs": []
    },
    {
      "cell_type": "markdown",
      "source": [
        "MNIST는 손글씨 사진과 어떤 숫자를 의미하는지에 대한 label의 pair들로 구성되어있습니다.\n",
        "이 때, 우리는 PyTorch model을 사용할 것이기 때문에 손글씨 사진들을 모두 tensor로 변환해야합니다.\n",
        "이러한 부가적인 변환들은 `torchvision.transforms`에서 제공하고 있으며, `torchvision.datasets.MNIST`에서 `transform` 인자로 받을 수 있습니다.\n",
        "우리는 단순히 사진을 tensor로 바꾸고 싶기 때문에 `transforms.ToTensor()` transformation을 넘겨줍니다.\n",
        "\n",
        "다음은 전체 data의 개수와 첫 번째 data를 출력한 결과입니다."
      ],
      "metadata": {
        "id": "p-GqH7_ZjVMs"
      }
    },
    {
      "cell_type": "code",
      "source": [
        "from matplotlib import pyplot as plt\n",
        "\n",
        "\n",
        "print(len(trainset))\n",
        "print(trainset[0][0].shape, trainset[0][1])\n",
        "plt.imshow(trainset[0][0][0], cmap='gray')"
      ],
      "metadata": {
        "colab": {
          "base_uri": "https://localhost:8080/",
          "height": 485
        },
        "id": "Zsp3sHmojyhT",
        "outputId": "48a7e940-10a2-4ca2-8c37-cb2502543fe6"
      },
      "execution_count": null,
      "outputs": [
        {
          "output_type": "stream",
          "name": "stdout",
          "text": [
            "60000\n",
            "torch.Size([1, 28, 28]) 5\n"
          ]
        },
        {
          "output_type": "execute_result",
          "data": {
            "text/plain": [
              "<matplotlib.image.AxesImage at 0x7dbfdd92c1c0>"
            ]
          },
          "metadata": {},
          "execution_count": 4
        },
        {
          "output_type": "display_data",
          "data": {
            "text/plain": [
              "<Figure size 640x480 with 1 Axes>"
            ],
            "image/png": "[encoded data removed]"
          },
          "metadata": {}
        }
      ]
    },
    {
      "cell_type": "markdown",
      "source": [
        "첫 번째 출력결과를 통해 우리는 6만장의 손글씨 data가 있는 것을 알 수 있습니다.\n",
        "그리고 두 번째 출력결과를 통해 첫 번째 data의 shape은 (1, 28, 28)이고 5라는 숫자를 쓴 사진이라는 것을 알 수 있습니다.\n",
        "마지막으로 `plt.imshow`를 통해 visualize 했을 때 5라는 숫자가 나오는 것을 알 수 있습니다.\n",
        "\n",
        "다음은 SGD를 위해 dataset을 여러 개의 batch로 나누는 과정을 PyTorch로 구현한 모습입니다."
      ],
      "metadata": {
        "id": "udm8wDBsi301"
      }
    },
    {
      "cell_type": "code",
      "source": [
        "batch_size = 256\n",
        "\n",
        "trainloader = torch.utils.data.DataLoader(\n",
        "    trainset,\n",
        "    batch_size=batch_size,\n",
        "    shuffle=True\n",
        ")"
      ],
      "metadata": {
        "id": "UxKu3kA2i5WH"
      },
      "execution_count": null,
      "outputs": []
    },
    {
      "cell_type": "code",
      "source": [
        "testloader = torch.utils.data.DataLoader(\n",
        "    testset,\n",
        "    batch_size=batch_size,\n",
        "    shuffle=False\n",
        ")"
      ],
      "metadata": {
        "id": "lBggK2NG8qTY"
      },
      "execution_count": null,
      "outputs": []
    },
    {
      "cell_type": "markdown",
      "source": [],
      "metadata": {
        "id": "UtHBlrIk8p5e"
      }
    },
    {
      "cell_type": "markdown",
      "source": [
        "PyTorch에서는 `DataLoader`가 dataset을 인자로 받아 batch로 나눠줍니다.\n",
        "부가적으로 `batch_size`라는 인자를 통해 batch size를 받고 있으며, `shuffle`이라는 인자를 통해 data들을 섞을지 결정해줍니다.\n",
        "우리는 SGD가 완전 랜덤으로 batch를 구성해야 잘 동작하는 것을 알고 있기 때문에 `shuffle`에 `True`를 넘겨주고 있습니다.\n",
        "\n",
        "다음은 첫 번째 batch를 출력한 모습입니다."
      ],
      "metadata": {
        "id": "z4Qyrm4WlzWt"
      }
    },
    {
      "cell_type": "code",
      "source": [
        "dataiter = iter(trainloader)\n",
        "images, labels = next(dataiter)\n",
        "print(images.shape, labels.shape)"
      ],
      "metadata": {
        "colab": {
          "base_uri": "https://localhost:8080/"
        },
        "id": "_Hd7XxyAvVNz",
        "outputId": "701176eb-021e-4f75-e9c0-30b595bd0766"
      },
      "execution_count": null,
      "outputs": [
        {
          "output_type": "stream",
          "name": "stdout",
          "text": [
            "torch.Size([256, 1, 28, 28]) torch.Size([256])\n"
          ]
        }
      ]
    },
    {
      "cell_type": "markdown",
      "source": [
        "`images`는 첫 번째 batch의 image들이고 `labels`는 첫 번째 batch의 label들입니다.\n",
        "위에서 batch size를 64로 설정했기 때문에 총 64개의 image와 label들이 있어야 합니다.\n",
        "실제 shape 출력 결과를 보면 그렇다는 것을 알 수 있습니다.\n",
        "\n",
        "다음은 (n, 1, 28, 28) shape의 image를 입력받아 0~9 사이의 정수 하나를 출력하는 3-layer MLP를 구현합니다."
      ],
      "metadata": {
        "id": "h0ZY5mDimRUK"
      }
    },
    {
      "cell_type": "code",
      "source": [
        "from torch import nn\n",
        "\n",
        "\n",
        "class Model(nn.Module):\n",
        "  def __init__(self, input_dim, n_dim, label_dim):\n",
        "    super().__init__()\n",
        "\n",
        "    self.layer1 = nn.Linear(input_dim, n_dim)\n",
        "    self.layer2 = nn.Linear(n_dim, n_dim)\n",
        "    self.layer3 = nn.Linear(n_dim, label_dim)\n",
        "\n",
        "    self.act = nn.ReLU()\n",
        "\n",
        "  def forward(self, x):\n",
        "    x = torch.flatten(x, start_dim=1)\n",
        "    x = self.act(self.layer1(x))\n",
        "    x = self.act(self.layer2(x))\n",
        "    x = self.layer3(x)\n",
        "\n",
        "    return x\n",
        "\n",
        "\n",
        "model = Model(28 * 28 * 1, 1024, 10)"
      ],
      "metadata": {
        "id": "OLOA-ZGTuVVG"
      },
      "execution_count": null,
      "outputs": []
    },
    {
      "cell_type": "markdown",
      "source": [
        "이전의 2-layer MLP와 유사한 형태임을 알 수 있습니다.\n",
        "여기서 특이사항은 `forward`의 첫 번째 줄에 `torch.flatten`을 사용한다는 것입니다.\n",
        "`Linear`는 이전에도 봤다시피 (n, d) 형태의 shape을 입력받습니다.\n",
        "이미지는 (n, 1, 28, 28)이기 때문에 (n, 1 * 28 * 28)로 shape을 변환해야 선형 함수에 입력으로 주어줄 수 있게 됩니다.\n",
        "이 역할을 수행하는 것이 바로 `torch.flatten`입니다.\n",
        "우리는 첫 번째 shape인 n을 보존할 것이기 때문에 flatten할 차원은 `start_dim=1`로 넘겨주게 됩니다.\n",
        "\n",
        "다음은 gradient descent를 수행해줄 optimizer를 구현하는 모습입니다."
      ],
      "metadata": {
        "id": "tag1rNcwmnAr"
      }
    },
    {
      "cell_type": "code",
      "source": [
        "from torch.optim import SGD\n",
        "\n",
        "lr = 0.001\n",
        "model = model.to('cuda')\n",
        "\n",
        "optimizer = SGD(model.parameters(), lr=lr)"
      ],
      "metadata": {
        "id": "ypS0TcOlvBhZ"
      },
      "execution_count": null,
      "outputs": []
    },
    {
      "cell_type": "markdown",
      "source": [
        "이전 코드와 거의 똑같습니다. 다른 점은 `model.to('cuda')` 코드를 통해 우리가 구현한 model을 GPU로 옮긴 것입니다.\n",
        "MNIST 부터는 모델과 data가 커지면서 훨씬 많은 행렬 연산이 이루어지기 때문에 GPU를 활용하는 것이 빠릅니다.\n",
        "\n",
        "다음은 model을 MNIST에 학습하는 코드입니다."
      ],
      "metadata": {
        "id": "5PooeOKMnRfZ"
      }
    },
    {
      "cell_type": "code",
      "source": [
        "def accuracy(model, dataloader):\n",
        "  cnt = 0\n",
        "  acc = 0\n",
        "\n",
        "  for data in dataloader:\n",
        "    inputs, labels = data\n",
        "    inputs, labels = inputs.to('cuda'), labels.to('cuda')\n",
        "\n",
        "    preds = model(inputs)\n",
        "    preds = torch.argmax(preds, dim=-1)\n",
        "\n",
        "    cnt += labels.shape[0]\n",
        "    acc += (labels == preds).sum().item()\n",
        "\n",
        "  return acc / cnt"
      ],
      "metadata": {
        "id": "9114h2uH-Aii"
      },
      "execution_count": null,
      "outputs": []
    },
    {
      "cell_type": "code",
      "source": [
        "%env CUDA_LAUNCH_BLOCKING=1"
      ],
      "metadata": {
        "colab": {
          "base_uri": "https://localhost:8080/"
        },
        "id": "qZrZ2B-cEHJ7",
        "outputId": "2f904893-bba3-4362-8e06-b5346572f0f9"
      },
      "execution_count": null,
      "outputs": [
        {
          "output_type": "stream",
          "name": "stdout",
          "text": [
            "env: CUDA_LAUNCH_BLOCKING=1\n"
          ]
        }
      ]
    },
    {
      "cell_type": "code",
      "source": [
        "n_epochs = 100\n",
        "# 손실 함수는 루프 밖에서 한 번만 정의\n",
        "loss_fn = nn.CrossEntropyLoss()\n",
        "train_accs = []\n",
        "test_accs = []\n",
        "\n",
        "for epoch in range(n_epochs):\n",
        "\n",
        "    total_loss = 0.\n",
        "\n",
        "    for data in trainloader:\n",
        "        model.zero_grad()\n",
        "\n",
        "        inputs, labels = data\n",
        "        inputs = inputs.to('cuda')\n",
        "        labels = labels.long().to('cuda')\n",
        "\n",
        "        preds = model(inputs)\n",
        "\n",
        "        try:\n",
        "            loss = loss_fn(preds, labels)\n",
        "            loss.backward()\n",
        "            optimizer.step()\n",
        "        except Exception as e:\n",
        "            print(f\"에러 발생: {e}\")\n",
        "            print(f\"Preds shape: {preds.shape}\")\n",
        "            print(f\"Labels shape: {labels.shape}\")\n",
        "            break\n",
        "\n",
        "        total_loss += loss.item()\n",
        "\n",
        "    train_accs.append(accuracy(model, trainloader))\n",
        "    test_accs.append(accuracy(model, testloader))\n",
        "\n",
        "    print(f\"Epoch {epoch:3d} | Loss: {total_loss}\")"
      ],
      "metadata": {
        "colab": {
          "base_uri": "https://localhost:8080/"
        },
        "id": "TryX1hewvNiB",
        "outputId": "55785447-6dae-4e23-a1a7-eab2172fcda1"
      },
      "execution_count": null,
      "outputs": [
        {
          "output_type": "stream",
          "name": "stdout",
          "text": [
            "Epoch   0 | Loss: 539.5038719177246\n",
            "Epoch   1 | Loss: 535.8640315532684\n",
            "Epoch   2 | Loss: 532.110013961792\n",
            "Epoch   3 | Loss: 528.1112010478973\n",
            "Epoch   4 | Loss: 523.7600767612457\n",
            "Epoch   5 | Loss: 518.9288778305054\n",
            "Epoch   6 | Loss: 513.4927413463593\n",
            "Epoch   7 | Loss: 507.3144574165344\n",
            "Epoch   8 | Loss: 500.2602729797363\n",
            "Epoch   9 | Loss: 492.122750043869\n",
            "Epoch  10 | Loss: 482.7591509819031\n",
            "Epoch  11 | Loss: 472.0674353837967\n",
            "Epoch  12 | Loss: 459.7940841913223\n",
            "Epoch  13 | Loss: 445.89213275909424\n",
            "Epoch  14 | Loss: 430.35350692272186\n",
            "Epoch  15 | Loss: 413.1291536092758\n",
            "Epoch  16 | Loss: 394.56725203990936\n",
            "Epoch  17 | Loss: 375.0718182325363\n",
            "Epoch  18 | Loss: 354.89136362075806\n",
            "Epoch  19 | Loss: 334.7594028711319\n",
            "Epoch  20 | Loss: 315.1886645555496\n",
            "Epoch  21 | Loss: 296.58035266399384\n",
            "Epoch  22 | Loss: 279.2877279520035\n",
            "Epoch  23 | Loss: 263.4420018196106\n",
            "Epoch  24 | Loss: 249.03316056728363\n",
            "Epoch  25 | Loss: 236.13354521989822\n",
            "Epoch  26 | Loss: 224.42629259824753\n",
            "Epoch  27 | Loss: 213.9738387465477\n",
            "Epoch  28 | Loss: 204.61951035261154\n",
            "Epoch  29 | Loss: 196.1024585366249\n",
            "Epoch  30 | Loss: 188.51014918088913\n",
            "Epoch  31 | Loss: 181.6630700826645\n",
            "Epoch  32 | Loss: 175.4195557832718\n",
            "Epoch  33 | Loss: 169.69070863723755\n",
            "Epoch  34 | Loss: 164.45297700166702\n",
            "Epoch  35 | Loss: 159.73706912994385\n",
            "Epoch  36 | Loss: 155.30153423547745\n",
            "Epoch  37 | Loss: 151.33941173553467\n",
            "Epoch  38 | Loss: 147.62448239326477\n",
            "Epoch  39 | Loss: 144.09257590770721\n",
            "Epoch  40 | Loss: 140.9054701924324\n",
            "Epoch  41 | Loss: 137.92026725411415\n",
            "Epoch  42 | Loss: 135.0921347439289\n",
            "Epoch  43 | Loss: 132.45434015989304\n",
            "Epoch  44 | Loss: 130.06374371051788\n",
            "Epoch  45 | Loss: 127.72085770964622\n",
            "Epoch  46 | Loss: 125.55695727467537\n",
            "Epoch  47 | Loss: 123.62851110100746\n",
            "Epoch  48 | Loss: 121.64832237362862\n",
            "Epoch  49 | Loss: 120.01328194141388\n",
            "Epoch  50 | Loss: 118.0827808380127\n",
            "Epoch  51 | Loss: 116.4373077750206\n",
            "Epoch  52 | Loss: 114.91641965508461\n",
            "Epoch  53 | Loss: 113.54399436712265\n",
            "Epoch  54 | Loss: 112.05832013487816\n",
            "Epoch  55 | Loss: 110.72572618722916\n",
            "Epoch  56 | Loss: 109.46754652261734\n",
            "Epoch  57 | Loss: 108.13832411170006\n",
            "Epoch  58 | Loss: 107.08674275875092\n",
            "Epoch  59 | Loss: 105.99074468016624\n",
            "Epoch  60 | Loss: 104.85067084431648\n",
            "Epoch  61 | Loss: 103.85293233394623\n",
            "Epoch  62 | Loss: 102.9980737566948\n",
            "Epoch  63 | Loss: 101.95126974582672\n",
            "Epoch  64 | Loss: 101.12296351790428\n",
            "Epoch  65 | Loss: 100.14510995149612\n",
            "Epoch  66 | Loss: 99.48700124025345\n",
            "Epoch  67 | Loss: 98.69149419665337\n",
            "Epoch  68 | Loss: 97.82837799191475\n",
            "Epoch  69 | Loss: 97.10137477517128\n",
            "Epoch  70 | Loss: 96.39357271790504\n",
            "Epoch  71 | Loss: 95.70015704631805\n",
            "Epoch  72 | Loss: 95.05304113030434\n",
            "Epoch  73 | Loss: 94.28379437327385\n",
            "Epoch  74 | Loss: 93.69143211841583\n",
            "Epoch  75 | Loss: 93.0637780725956\n",
            "Epoch  76 | Loss: 92.55185103416443\n",
            "Epoch  77 | Loss: 91.97967374324799\n",
            "Epoch  78 | Loss: 91.4514370560646\n",
            "Epoch  79 | Loss: 90.91162258386612\n",
            "Epoch  80 | Loss: 90.34150119125843\n",
            "Epoch  81 | Loss: 89.8390431702137\n",
            "Epoch  82 | Loss: 89.34544828534126\n",
            "Epoch  83 | Loss: 88.88051226735115\n",
            "Epoch  84 | Loss: 88.4790389239788\n",
            "Epoch  85 | Loss: 88.01011499762535\n",
            "Epoch  86 | Loss: 87.51120179891586\n",
            "Epoch  87 | Loss: 87.105209633708\n",
            "Epoch  88 | Loss: 86.72856150567532\n",
            "Epoch  89 | Loss: 86.2946175634861\n",
            "Epoch  90 | Loss: 85.84788924455643\n",
            "Epoch  91 | Loss: 85.4779575318098\n",
            "Epoch  92 | Loss: 85.12742708623409\n",
            "Epoch  93 | Loss: 84.73461093008518\n",
            "Epoch  94 | Loss: 84.36612927913666\n",
            "Epoch  95 | Loss: 84.05559080839157\n",
            "Epoch  96 | Loss: 83.56039696931839\n",
            "Epoch  97 | Loss: 83.37971757352352\n",
            "Epoch  98 | Loss: 82.94852115213871\n",
            "Epoch  99 | Loss: 82.70547696948051\n"
          ]
        }
      ]
    },
    {
      "cell_type": "markdown",
      "source": [
        "출력 결과를 보면 잘 수렴하는 것을 볼 수 있습니다.\n",
        "이전 구현과 다른 점은 다음 두 가지입니다.\n",
        "- `for data in trainloader`를 통해 batch들을 iterate하면서 model을 학습합니다.\n",
        "- `inputs, labels = inputs.to('cuda'), labels.to('cuda')`를 통해 model의 입력으로 들어가는 tensor들을 GPU로 보냅니다.\n",
        "\n",
        "마지막으로 첫 번째 data에 대한 예측 결과를 살펴봅시다."
      ],
      "metadata": {
        "id": "YRDcptrqniX7"
      }
    },
    {
      "cell_type": "code",
      "source": [
        "idx = 0\n",
        "\n",
        "x = trainset[idx][0][None]  # (1, 1, 28, 28)\n",
        "x = x.to('cuda')\n",
        "\n",
        "print(model(x))\n",
        "print(trainset[idx][1])"
      ],
      "metadata": {
        "id": "Zct0ssSKwjt1",
        "colab": {
          "base_uri": "https://localhost:8080/"
        },
        "outputId": "94a037e7-a3e3-40d7-fab1-06d942c878a2"
      },
      "execution_count": null,
      "outputs": [
        {
          "output_type": "stream",
          "name": "stdout",
          "text": [
            "tensor([[ 1.9218e+00, -4.2321e+00,  4.4217e-01,  5.2654e+00, -6.0118e+00,\n",
            "          4.7430e+00, -2.7726e+00, -3.4464e-03,  1.5332e+00, -1.8314e-01]],\n",
            "       device='cuda:0', grad_fn=<AddmmBackward0>)\n",
            "5\n"
          ]
        }
      ]
    },
    {
      "cell_type": "markdown",
      "source": [
        "여기서 idx를 조정하여 다른 data에 대한 출력 결과도 볼 수 있습니다.\n",
        "예측 결과를 보시면 아직 성능이 그렇게 좋지 않은 것을 알 수 있습니다."
      ],
      "metadata": {
        "id": "qzgSOrMsoZ2z"
      }
    },
    {
      "cell_type": "code",
      "source": [
        "import numpy as np\n",
        "\n",
        "def plot_acc(train_accs, test_accs, label1='train', label2='test'):\n",
        "  x = np.arange(len(train_accs))\n",
        "\n",
        "  plt.plot(x, train_accs, label=label1)\n",
        "  plt.plot(x, test_accs, label=label2)\n",
        "  plt.legend()\n",
        "  plt.show()\n",
        "\n",
        "\n",
        "plot_acc(train_accs, test_accs)"
      ],
      "metadata": {
        "colab": {
          "base_uri": "https://localhost:8080/",
          "height": 430
        },
        "id": "ozuQTsv7P6OF",
        "outputId": "e3a1b9c5-0ef8-4c90-e34a-d89887cae460"
      },
      "execution_count": null,
      "outputs": [
        {
          "output_type": "display_data",
          "data": {
            "text/plain": [
              "<Figure size 640x480 with 1 Axes>"
            ],
            "image/png": "[encoded data removed]"
          },
          "metadata": {}
        }
      ]
    },
    {
      "cell_type": "code",
      "source": [],
      "metadata": {
        "id": "d6M4SpWQoML9"
      },
      "execution_count": null,
      "outputs": []
    }
  ]
}