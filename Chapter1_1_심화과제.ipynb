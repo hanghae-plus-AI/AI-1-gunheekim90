{
  "nbformat": 4,
  "nbformat_minor": 0,
  "metadata": {
    "colab": {
      "provenance": [],
      "gpuType": "T4",
      "include_colab_link": true
    },
    "kernelspec": {
      "name": "python3",
      "display_name": "Python 3"
    },
    "language_info": {
      "name": "python"
    },
    "accelerator": "GPU"
  },
  "cells": [
    {
      "cell_type": "markdown",
      "metadata": {
        "id": "view-in-github",
        "colab_type": "text"
      },
      "source": [
        "<a href=\"https://colab.research.google.com/github/hanghae-plus-AI/AI-1-gunheekim90/blob/main/Chapter1_1_%EC%8B%AC%ED%99%94%EA%B3%BC%EC%A0%9C.ipynb\" target=\"_parent\"><img src=\"https://colab.research.google.com/assets/colab-badge.svg\" alt=\"Open In Colab\"/></a>"
      ]
    },
    {
      "cell_type": "markdown",
      "source": [
        "# MNIST 실습\n",
        "\n",
        "이번에는 28x28 흑백 손글씨 이미지를 보고 0~9 사이의 숫자 중 어떤 숫자를 쓴 것인지 예측하는 문제를 실습합니다.\n",
        "이번 실습에서는 GPU를 활용할 것이기 때문에, 이전 챕터에서 Colab에서 GPU를 설정하는 방법을 따라해주시길 바랍니다.\n",
        "\n",
        "GPU를 설정했으면 library들을 import합니다."
      ],
      "metadata": {
        "id": "OPJenlrhihrh"
      }
    },
    {
      "cell_type": "code",
      "execution_count": null,
      "metadata": {
        "id": "6lXVfXoDtoQh"
      },
      "outputs": [],
      "source": [
        "import torch\n",
        "import torchvision\n",
        "import torchvision.transforms as transforms\n",
        "import numpy as np"
      ]
    },
    {
      "cell_type": "markdown",
      "source": [
        "다음은 dataset을 준비합니다. 손글씨 dataset은 MNIST라는 유명한 dataset이 있습니다. 이 dataset은 `torchvision`에서 제공하고 있으며, 다음과 같이 다운로드 받을 수 있습니다."
      ],
      "metadata": {
        "id": "pF-1zQvmiult"
      }
    },
    {
      "cell_type": "code",
      "source": [
        "transform = transforms.ToTensor()\n",
        "\n",
        "trainset = torchvision.datasets.CIFAR10(\n",
        "    root='./data',\n",
        "    train=True,\n",
        "    download=True,\n",
        "    transform=transform\n",
        ")"
      ],
      "metadata": {
        "id": "KAYlqPaRt6ti",
        "colab": {
          "base_uri": "https://localhost:8080/"
        },
        "outputId": "54fcff99-2de5-4992-cfea-bf22ed53ce32"
      },
      "execution_count": null,
      "outputs": [
        {
          "output_type": "stream",
          "name": "stdout",
          "text": [
            "Downloading https://www.cs.toronto.edu/~kriz/cifar-10-python.tar.gz to ./data/cifar-10-python.tar.gz\n"
          ]
        },
        {
          "output_type": "stream",
          "name": "stderr",
          "text": [
            "100%|██████████| 170498071/170498071 [00:17<00:00, 9662029.30it/s]\n"
          ]
        },
        {
          "output_type": "stream",
          "name": "stdout",
          "text": [
            "Extracting ./data/cifar-10-python.tar.gz to ./data\n"
          ]
        }
      ]
    },
    {
      "cell_type": "code",
      "source": [
        "testset = torchvision.datasets.CIFAR10(\n",
        "    root='./data',\n",
        "    train=False,\n",
        "    download=True,\n",
        "    transform=transform\n",
        ")"
      ],
      "metadata": {
        "id": "kHu9tZsT8fxB",
        "colab": {
          "base_uri": "https://localhost:8080/"
        },
        "outputId": "65042033-0588-4a02-fb5a-f6eb22e0364f"
      },
      "execution_count": null,
      "outputs": [
        {
          "output_type": "stream",
          "name": "stdout",
          "text": [
            "Files already downloaded and verified\n"
          ]
        }
      ]
    },
    {
      "cell_type": "markdown",
      "source": [
        "MNIST는 손글씨 사진과 어떤 숫자를 의미하는지에 대한 label의 pair들로 구성되어있습니다.\n",
        "이 때, 우리는 PyTorch model을 사용할 것이기 때문에 손글씨 사진들을 모두 tensor로 변환해야합니다.\n",
        "이러한 부가적인 변환들은 `torchvision.transforms`에서 제공하고 있으며, `torchvision.datasets.MNIST`에서 `transform` 인자로 받을 수 있습니다.\n",
        "우리는 단순히 사진을 tensor로 바꾸고 싶기 때문에 `transforms.ToTensor()` transformation을 넘겨줍니다.\n",
        "\n",
        "다음은 전체 data의 개수와 첫 번째 data를 출력한 결과입니다."
      ],
      "metadata": {
        "id": "p-GqH7_ZjVMs"
      }
    },
    {
      "cell_type": "code",
      "source": [
        "from matplotlib import pyplot as plt\n",
        "\n",
        "\n",
        "print(len(trainset))\n",
        "print(trainset[0][0].shape, trainset[1][1])\n",
        "sample = np.transpose(trainset[1][0], (1,2,0))\n",
        "plt.imshow(sample)"
      ],
      "metadata": {
        "colab": {
          "base_uri": "https://localhost:8080/",
          "height": 484
        },
        "id": "Zsp3sHmojyhT",
        "outputId": "2a3235f7-9fb1-428b-91c1-4ff64dc0273a"
      },
      "execution_count": null,
      "outputs": [
        {
          "output_type": "stream",
          "name": "stdout",
          "text": [
            "50000\n",
            "torch.Size([3, 32, 32]) 9\n"
          ]
        },
        {
          "output_type": "execute_result",
          "data": {
            "text/plain": [
              "<matplotlib.image.AxesImage at 0x7e3ded3b87c0>"
            ]
          },
          "metadata": {},
          "execution_count": 5
        },
        {
          "output_type": "display_data",
          "data": {
            "text/plain": [
              "<Figure size 640x480 with 1 Axes>"
            ],
            "image/png": "[encoded data removed]"
          },
          "metadata": {}
        }
      ]
    },
    {
      "cell_type": "markdown",
      "source": [
        "첫 번째 출력결과를 통해 우리는 6만장의 손글씨 data가 있는 것을 알 수 있습니다.\n",
        "그리고 두 번째 출력결과를 통해 첫 번째 data의 shape은 (1, 28, 28)이고 5라는 숫자를 쓴 사진이라는 것을 알 수 있습니다.\n",
        "마지막으로 `plt.imshow`를 통해 visualize 했을 때 5라는 숫자가 나오는 것을 알 수 있습니다.\n",
        "\n",
        "다음은 SGD를 위해 dataset을 여러 개의 batch로 나누는 과정을 PyTorch로 구현한 모습입니다."
      ],
      "metadata": {
        "id": "udm8wDBsi301"
      }
    },
    {
      "cell_type": "code",
      "source": [
        "batch_size = 256\n",
        "\n",
        "trainloader = torch.utils.data.DataLoader(\n",
        "    trainset,\n",
        "    batch_size=batch_size,\n",
        "    shuffle=True\n",
        ")"
      ],
      "metadata": {
        "id": "UxKu3kA2i5WH"
      },
      "execution_count": null,
      "outputs": []
    },
    {
      "cell_type": "code",
      "source": [
        "testloader = torch.utils.data.DataLoader(\n",
        "    testset,\n",
        "    batch_size=batch_size,\n",
        "    shuffle=False\n",
        ")"
      ],
      "metadata": {
        "id": "lBggK2NG8qTY"
      },
      "execution_count": null,
      "outputs": []
    },
    {
      "cell_type": "markdown",
      "source": [],
      "metadata": {
        "id": "UtHBlrIk8p5e"
      }
    },
    {
      "cell_type": "markdown",
      "source": [
        "PyTorch에서는 `DataLoader`가 dataset을 인자로 받아 batch로 나눠줍니다.\n",
        "부가적으로 `batch_size`라는 인자를 통해 batch size를 받고 있으며, `shuffle`이라는 인자를 통해 data들을 섞을지 결정해줍니다.\n",
        "우리는 SGD가 완전 랜덤으로 batch를 구성해야 잘 동작하는 것을 알고 있기 때문에 `shuffle`에 `True`를 넘겨주고 있습니다.\n",
        "\n",
        "다음은 첫 번째 batch를 출력한 모습입니다."
      ],
      "metadata": {
        "id": "z4Qyrm4WlzWt"
      }
    },
    {
      "cell_type": "code",
      "source": [
        "dataiter = iter(trainloader)\n",
        "images, labels = next(dataiter)\n",
        "print(images.shape, labels.shape)"
      ],
      "metadata": {
        "colab": {
          "base_uri": "https://localhost:8080/"
        },
        "id": "_Hd7XxyAvVNz",
        "outputId": "328e3a5e-40b6-4ca7-f76a-ad159c733332"
      },
      "execution_count": null,
      "outputs": [
        {
          "output_type": "stream",
          "name": "stdout",
          "text": [
            "torch.Size([256, 3, 32, 32]) torch.Size([256])\n"
          ]
        }
      ]
    },
    {
      "cell_type": "markdown",
      "source": [
        "`images`는 첫 번째 batch의 image들이고 `labels`는 첫 번째 batch의 label들입니다.\n",
        "위에서 batch size를 64로 설정했기 때문에 총 64개의 image와 label들이 있어야 합니다.\n",
        "실제 shape 출력 결과를 보면 그렇다는 것을 알 수 있습니다.\n",
        "\n",
        "다음은 (n, 1, 28, 28) shape의 image를 입력받아 0~9 사이의 정수 하나를 출력하는 3-layer MLP를 구현합니다."
      ],
      "metadata": {
        "id": "h0ZY5mDimRUK"
      }
    },
    {
      "cell_type": "code",
      "source": [
        "from torch import nn\n",
        "\n",
        "\n",
        "class Model(nn.Module):\n",
        "  def __init__(self, input_dim, n_dim):\n",
        "    super().__init__()\n",
        "\n",
        "    self.layer1 = nn.Linear(input_dim, n_dim)\n",
        "    self.layer2 = nn.Linear(n_dim, n_dim)\n",
        "    self.layer3 = nn.Linear(n_dim, 10)\n",
        "\n",
        "    self.act = nn.LeakyReLU()\n",
        "\n",
        "  def forward(self, x):\n",
        "    x = torch.flatten(x, start_dim=1)\n",
        "    x = self.act(self.layer1(x))\n",
        "    x = self.act(self.layer2(x))\n",
        "    x = self.layer3(x)\n",
        "\n",
        "    return x"
      ],
      "metadata": {
        "id": "OLOA-ZGTuVVG"
      },
      "execution_count": null,
      "outputs": []
    },
    {
      "cell_type": "code",
      "source": [
        "from torch.optim import SGD, Adam\n",
        "\n",
        "lr = 0.001\n",
        "\n",
        "model_opt_sgd = Model(3 * 32 * 32, 1024)\n",
        "model_opt_adam = Model(3 * 32 * 32, 1024)\n",
        "\n",
        "model_opt_sgd = model_opt_sgd.to('cuda')\n",
        "model_opt_adam = model_opt_adam.to('cuda')\n",
        "\n",
        "optimizer_sgd = SGD(model_opt_sgd.parameters(), lr=lr)\n",
        "optimizer_adam = Adam(model_opt_adam.parameters(), lr=lr)"
      ],
      "metadata": {
        "id": "lLqnTHkRjRA3"
      },
      "execution_count": null,
      "outputs": []
    },
    {
      "cell_type": "markdown",
      "source": [
        "이전의 2-layer MLP와 유사한 형태임을 알 수 있습니다.\n",
        "여기서 특이사항은 `forward`의 첫 번째 줄에 `torch.flatten`을 사용한다는 것입니다.\n",
        "`Linear`는 이전에도 봤다시피 (n, d) 형태의 shape을 입력받습니다.\n",
        "이미지는 (n, 1, 28, 28)이기 때문에 (n, 1 * 28 * 28)로 shape을 변환해야 선형 함수에 입력으로 주어줄 수 있게 됩니다.\n",
        "이 역할을 수행하는 것이 바로 `torch.flatten`입니다.\n",
        "우리는 첫 번째 shape인 n을 보존할 것이기 때문에 flatten할 차원은 `start_dim=1`로 넘겨주게 됩니다.\n",
        "\n",
        "다음은 gradient descent를 수행해줄 optimizer를 구현하는 모습입니다."
      ],
      "metadata": {
        "id": "tag1rNcwmnAr"
      }
    },
    {
      "cell_type": "markdown",
      "source": [
        "이전 코드와 거의 똑같습니다. 다른 점은 `model.to('cuda')` 코드를 통해 우리가 구현한 model을 GPU로 옮긴 것입니다.\n",
        "MNIST 부터는 모델과 data가 커지면서 훨씬 많은 행렬 연산이 이루어지기 때문에 GPU를 활용하는 것이 빠릅니다.\n",
        "\n",
        "다음은 model을 MNIST에 학습하는 코드입니다."
      ],
      "metadata": {
        "id": "5PooeOKMnRfZ"
      }
    },
    {
      "cell_type": "code",
      "source": [
        "def accuracy(model, dataloader):\n",
        "  cnt = 0\n",
        "  acc = 0\n",
        "\n",
        "  for data in dataloader:\n",
        "    inputs, labels = data\n",
        "    inputs, labels = inputs.to('cuda'), labels.to('cuda')\n",
        "\n",
        "    preds = model(inputs)\n",
        "    preds = torch.argmax(preds, dim=-1)\n",
        "\n",
        "    cnt += labels.shape[0]\n",
        "    acc += (labels == preds).sum().item()\n",
        "\n",
        "  return acc / cnt"
      ],
      "metadata": {
        "id": "9114h2uH-Aii"
      },
      "execution_count": null,
      "outputs": []
    },
    {
      "cell_type": "code",
      "source": [
        "%env CUDA_LAUNCH_BLOCKING=1"
      ],
      "metadata": {
        "colab": {
          "base_uri": "https://localhost:8080/"
        },
        "id": "qZrZ2B-cEHJ7",
        "outputId": "2f904893-bba3-4362-8e06-b5346572f0f9"
      },
      "execution_count": null,
      "outputs": [
        {
          "output_type": "stream",
          "name": "stdout",
          "text": [
            "env: CUDA_LAUNCH_BLOCKING=1\n"
          ]
        }
      ]
    },
    {
      "cell_type": "code",
      "source": [
        "def train(model, optimizer, trainloader, testloader=None, n_epochs = 50):\n",
        "    train_accs = []\n",
        "    test_accs = []\n",
        "    for epoch in range(n_epochs):\n",
        "      total_loss = 0.\n",
        "\n",
        "      model.train()\n",
        "      for data in trainloader:\n",
        "        model.zero_grad()\n",
        "        inputs, labels = data\n",
        "        inputs, labels = inputs.to('cuda'), labels.to('cuda')\n",
        "\n",
        "        preds = model(inputs)\n",
        "        CEL = torch.nn.CrossEntropyLoss()\n",
        "        loss = CEL(preds, labels)\n",
        "        loss.backward()\n",
        "        optimizer.step()\n",
        "\n",
        "        total_loss += loss.item()\n",
        "\n",
        "      with torch.no_grad():\n",
        "        model.eval()\n",
        "        train_accs.append(accuracy(model, trainloader))\n",
        "        if testloader: test_accs.append(accuracy(model, testloader))\n",
        "\n",
        "      print(f\"Epoch {epoch:3d} | Loss: {total_loss}\")\n",
        "\n",
        "    if testloader:\n",
        "        return train_accs, test_accs\n",
        "    else:\n",
        "        return train_accs"
      ],
      "metadata": {
        "id": "TryX1hewvNiB"
      },
      "execution_count": null,
      "outputs": []
    },
    {
      "cell_type": "markdown",
      "source": [
        "출력 결과를 보면 잘 수렴하는 것을 볼 수 있습니다.\n",
        "이전 구현과 다른 점은 다음 두 가지입니다.\n",
        "- `for data in trainloader`를 통해 batch들을 iterate하면서 model을 학습합니다.\n",
        "- `inputs, labels = inputs.to('cuda'), labels.to('cuda')`를 통해 model의 입력으로 들어가는 tensor들을 GPU로 보냅니다.\n",
        "\n",
        "마지막으로 첫 번째 data에 대한 예측 결과를 살펴봅시다."
      ],
      "metadata": {
        "id": "YRDcptrqniX7"
      }
    },
    {
      "cell_type": "code",
      "source": [
        "adam_train = train(model_opt_adam, optimizer_adam, trainloader)\n",
        "sgd_train = train(model_opt_sgd, optimizer_sgd, trainloader)"
      ],
      "metadata": {
        "id": "Zct0ssSKwjt1",
        "colab": {
          "base_uri": "https://localhost:8080/"
        },
        "outputId": "52037568-140e-4c62-8451-5778eca28480"
      },
      "execution_count": null,
      "outputs": [
        {
          "output_type": "stream",
          "name": "stdout",
          "text": [
            "Epoch   0 | Loss: 367.09831511974335\n",
            "Epoch   1 | Loss: 324.89349496364594\n",
            "Epoch   2 | Loss: 305.97531747817993\n",
            "Epoch   3 | Loss: 294.7774714231491\n",
            "Epoch   4 | Loss: 285.2886116504669\n",
            "Epoch   5 | Loss: 277.33578622341156\n",
            "Epoch   6 | Loss: 269.55141723155975\n",
            "Epoch   7 | Loss: 263.28259551525116\n",
            "Epoch   8 | Loss: 257.53074955940247\n",
            "Epoch   9 | Loss: 250.9264360666275\n",
            "Epoch  10 | Loss: 246.07759296894073\n",
            "Epoch  11 | Loss: 239.3808788061142\n",
            "Epoch  12 | Loss: 234.31465768814087\n",
            "Epoch  13 | Loss: 228.511643409729\n",
            "Epoch  14 | Loss: 224.57382994890213\n",
            "Epoch  15 | Loss: 218.18806630373\n",
            "Epoch  16 | Loss: 212.89515268802643\n",
            "Epoch  17 | Loss: 206.76499032974243\n",
            "Epoch  18 | Loss: 202.77482515573502\n",
            "Epoch  19 | Loss: 198.6778802871704\n",
            "Epoch  20 | Loss: 190.74442875385284\n",
            "Epoch  21 | Loss: 187.02864611148834\n",
            "Epoch  22 | Loss: 179.02849447727203\n",
            "Epoch  23 | Loss: 174.85367035865784\n",
            "Epoch  24 | Loss: 169.78761684894562\n",
            "Epoch  25 | Loss: 163.98374623060226\n",
            "Epoch  26 | Loss: 156.6416681408882\n",
            "Epoch  27 | Loss: 153.69293612241745\n",
            "Epoch  28 | Loss: 146.55985468626022\n",
            "Epoch  29 | Loss: 142.24074453115463\n",
            "Epoch  30 | Loss: 136.530091881752\n",
            "Epoch  31 | Loss: 132.7084311246872\n",
            "Epoch  32 | Loss: 127.04452705383301\n",
            "Epoch  33 | Loss: 122.63420391082764\n",
            "Epoch  34 | Loss: 117.79742369055748\n",
            "Epoch  35 | Loss: 113.01183232665062\n",
            "Epoch  36 | Loss: 107.16099309921265\n",
            "Epoch  37 | Loss: 103.2257826924324\n",
            "Epoch  38 | Loss: 102.14041593670845\n",
            "Epoch  39 | Loss: 95.71596795320511\n",
            "Epoch  40 | Loss: 91.23280861973763\n",
            "Epoch  41 | Loss: 86.59680387377739\n",
            "Epoch  42 | Loss: 84.407673984766\n",
            "Epoch  43 | Loss: 80.74860517680645\n",
            "Epoch  44 | Loss: 79.4659988284111\n",
            "Epoch  45 | Loss: 74.03587809205055\n",
            "Epoch  46 | Loss: 70.199806407094\n",
            "Epoch  47 | Loss: 70.28451907634735\n",
            "Epoch  48 | Loss: 66.5362164080143\n",
            "Epoch  49 | Loss: 66.30940817296505\n",
            "Epoch   0 | Loss: 450.34560346603394\n",
            "Epoch   1 | Loss: 448.16737365722656\n",
            "Epoch   2 | Loss: 446.2751431465149\n",
            "Epoch   3 | Loss: 444.3609697818756\n",
            "Epoch   4 | Loss: 442.356050491333\n",
            "Epoch   5 | Loss: 440.2107560634613\n",
            "Epoch   6 | Loss: 437.9070644378662\n",
            "Epoch   7 | Loss: 435.42616534233093\n",
            "Epoch   8 | Loss: 432.73815417289734\n",
            "Epoch   9 | Loss: 429.93950295448303\n",
            "Epoch  10 | Loss: 427.02650260925293\n",
            "Epoch  11 | Loss: 424.0492904186249\n",
            "Epoch  12 | Loss: 421.0379500389099\n",
            "Epoch  13 | Loss: 418.1193745136261\n",
            "Epoch  14 | Loss: 415.2843942642212\n",
            "Epoch  15 | Loss: 412.6156461238861\n",
            "Epoch  16 | Loss: 410.1226623058319\n",
            "Epoch  17 | Loss: 407.7050440311432\n",
            "Epoch  18 | Loss: 405.52360713481903\n",
            "Epoch  19 | Loss: 403.39961206912994\n",
            "Epoch  20 | Loss: 401.4203382730484\n",
            "Epoch  21 | Loss: 399.62467670440674\n",
            "Epoch  22 | Loss: 397.873722076416\n",
            "Epoch  23 | Loss: 396.1743961572647\n",
            "Epoch  24 | Loss: 394.6194385290146\n",
            "Epoch  25 | Loss: 393.1749223470688\n",
            "Epoch  26 | Loss: 391.7548840045929\n",
            "Epoch  27 | Loss: 390.37770783901215\n",
            "Epoch  28 | Loss: 389.00829470157623\n",
            "Epoch  29 | Loss: 387.8566527366638\n",
            "Epoch  30 | Loss: 386.63994324207306\n",
            "Epoch  31 | Loss: 385.4204887151718\n",
            "Epoch  32 | Loss: 384.32921850681305\n",
            "Epoch  33 | Loss: 383.2383209466934\n",
            "Epoch  34 | Loss: 382.199751496315\n",
            "Epoch  35 | Loss: 381.231449007988\n",
            "Epoch  36 | Loss: 380.2590173482895\n",
            "Epoch  37 | Loss: 379.3795475959778\n",
            "Epoch  38 | Loss: 378.4841054677963\n",
            "Epoch  39 | Loss: 377.52331018447876\n",
            "Epoch  40 | Loss: 376.7358509302139\n",
            "Epoch  41 | Loss: 376.07396245002747\n",
            "Epoch  42 | Loss: 375.1527329683304\n",
            "Epoch  43 | Loss: 374.35118651390076\n",
            "Epoch  44 | Loss: 373.55510890483856\n",
            "Epoch  45 | Loss: 372.9434368610382\n",
            "Epoch  46 | Loss: 372.1304693222046\n",
            "Epoch  47 | Loss: 371.48643159866333\n",
            "Epoch  48 | Loss: 370.7981746196747\n",
            "Epoch  49 | Loss: 370.2200584411621\n"
          ]
        }
      ]
    },
    {
      "cell_type": "markdown",
      "source": [
        "여기서 idx를 조정하여 다른 data에 대한 출력 결과도 볼 수 있습니다.\n",
        "예측 결과를 보시면 아직 성능이 그렇게 좋지 않은 것을 알 수 있습니다."
      ],
      "metadata": {
        "id": "qzgSOrMsoZ2z"
      }
    },
    {
      "cell_type": "code",
      "source": [
        "from matplotlib import pyplot as plt\n",
        "\n",
        "def showPlot(*results):\n",
        "    for result in results:\n",
        "        data = result['data']\n",
        "        label = result['label']\n",
        "        x = np.arange(len(data))\n",
        "        plt.plot(x, data, label=label)›\n",
        "    plt.legend()\n",
        "    plt.show()"
      ],
      "metadata": {
        "id": "ozuQTsv7P6OF"
      },
      "execution_count": null,
      "outputs": []
    },
    {
      "cell_type": "code",
      "source": [
        "showPlot({'label': 'sgd', 'data': sgd_train}, {'label': 'adam', 'data': adam_train})"
      ],
      "metadata": {
        "id": "d6M4SpWQoML9",
        "colab": {
          "base_uri": "https://localhost:8080/",
          "height": 430
        },
        "outputId": "af16fadc-3b03-43d0-8efc-b76c487b40f5"
      },
      "execution_count": null,
      "outputs": [
        {
          "output_type": "display_data",
          "data": {
            "text/plain": [
              "<Figure size 640x480 with 1 Axes>"
            ],
            "image/png": "[encoded data removed]"
          },
          "metadata": {}
        }
      ]
    },
    {
      "cell_type": "code",
      "source": [
        "class SigmoidModel(nn.Module):\n",
        "    def __init__(self, input_dim, n_dim):\n",
        "        super().__init__()\n",
        "\n",
        "        self.layer1 = nn.Linear(input_dim, n_dim)\n",
        "        self.layer2 = nn.Linear(n_dim, n_dim)\n",
        "        self.layer3 = nn.Linear(n_dim, 10)\n",
        "\n",
        "        self.act = nn.Sigmoid()\n",
        "\n",
        "\n",
        "    def forward(self, x):\n",
        "        x = torch.flatten(x, start_dim=1)\n",
        "        x = self.act(self.layer1(x))\n",
        "        x = self.act(self.layer2(x))\n",
        "        x = self.layer3(x)\n",
        "\n",
        "        return x"
      ],
      "metadata": {
        "id": "XLHHLg3aqNik"
      },
      "execution_count": null,
      "outputs": []
    },
    {
      "cell_type": "code",
      "source": [
        "lr = 0.001\n",
        "\n",
        "sigModel = SigmoidModel(3 * 32 * 32, 1024)\n",
        "leakyReLUModel = Model(3 * 32 * 32, 1024)\n",
        "\n",
        "sigModel = sigModel.to('cuda')\n",
        "leakyReLUModel = leakyReLUModel.to('cuda')\n",
        "\n",
        "optim_for_sig = Adam(sigModel.parameters(), lr=lr)\n",
        "optim_for_leaky = Adam(leakyReLUModel.parameters(), lr=lr)"
      ],
      "metadata": {
        "id": "ZTitGTxxqSuz"
      },
      "execution_count": null,
      "outputs": []
    },
    {
      "cell_type": "code",
      "source": [
        "sig_train = train(sigModel, optim_for_sig, trainloader)\n",
        "leaky_train = train(leakyReLUModel, optim_for_leaky, trainloader)"
      ],
      "metadata": {
        "colab": {
          "base_uri": "https://localhost:8080/"
        },
        "id": "AM3jmQK1qUml",
        "outputId": "b83ee826-c496-4e85-fe0f-e6bf1198e179"
      },
      "execution_count": null,
      "outputs": [
        {
          "output_type": "stream",
          "name": "stdout",
          "text": [
            "Epoch   0 | Loss: 384.12871265411377\n",
            "Epoch   1 | Loss: 335.87662744522095\n",
            "Epoch   2 | Loss: 318.21194529533386\n",
            "Epoch   3 | Loss: 304.951531291008\n",
            "Epoch   4 | Loss: 299.5866222381592\n",
            "Epoch   5 | Loss: 291.06762540340424\n",
            "Epoch   6 | Loss: 283.67653930187225\n",
            "Epoch   7 | Loss: 280.09728598594666\n",
            "Epoch   8 | Loss: 273.77099657058716\n",
            "Epoch   9 | Loss: 269.536554813385\n",
            "Epoch  10 | Loss: 262.4453046321869\n",
            "Epoch  11 | Loss: 259.09826278686523\n",
            "Epoch  12 | Loss: 255.9016181230545\n",
            "Epoch  13 | Loss: 250.1629730463028\n",
            "Epoch  14 | Loss: 246.69332325458527\n",
            "Epoch  15 | Loss: 243.7239055633545\n",
            "Epoch  16 | Loss: 239.2210384607315\n",
            "Epoch  17 | Loss: 235.49966156482697\n",
            "Epoch  18 | Loss: 232.24180966615677\n",
            "Epoch  19 | Loss: 229.25455379486084\n",
            "Epoch  20 | Loss: 224.53793382644653\n",
            "Epoch  21 | Loss: 223.64705228805542\n",
            "Epoch  22 | Loss: 219.7560911178589\n",
            "Epoch  23 | Loss: 214.8354772925377\n",
            "Epoch  24 | Loss: 212.63990050554276\n",
            "Epoch  25 | Loss: 208.84564578533173\n",
            "Epoch  26 | Loss: 207.16765290498734\n",
            "Epoch  27 | Loss: 202.9699113368988\n",
            "Epoch  28 | Loss: 200.05026310682297\n",
            "Epoch  29 | Loss: 197.67254716157913\n",
            "Epoch  30 | Loss: 194.1582035422325\n",
            "Epoch  31 | Loss: 191.92314952611923\n",
            "Epoch  32 | Loss: 185.93682324886322\n",
            "Epoch  33 | Loss: 186.08777052164078\n",
            "Epoch  34 | Loss: 183.4151685833931\n",
            "Epoch  35 | Loss: 178.54891151189804\n",
            "Epoch  36 | Loss: 177.53517073392868\n",
            "Epoch  37 | Loss: 173.59004521369934\n",
            "Epoch  38 | Loss: 169.8713908791542\n",
            "Epoch  39 | Loss: 166.30053174495697\n",
            "Epoch  40 | Loss: 165.59499621391296\n",
            "Epoch  41 | Loss: 161.81645756959915\n",
            "Epoch  42 | Loss: 158.97211599349976\n",
            "Epoch  43 | Loss: 157.0781576037407\n",
            "Epoch  44 | Loss: 152.7267950773239\n",
            "Epoch  45 | Loss: 153.92642986774445\n",
            "Epoch  46 | Loss: 148.8913170695305\n",
            "Epoch  47 | Loss: 146.15475982427597\n",
            "Epoch  48 | Loss: 144.24632555246353\n",
            "Epoch  49 | Loss: 140.94317257404327\n",
            "Epoch   0 | Loss: 365.9627832174301\n",
            "Epoch   1 | Loss: 323.6392661333084\n",
            "Epoch   2 | Loss: 305.30040192604065\n",
            "Epoch   3 | Loss: 293.25694942474365\n",
            "Epoch   4 | Loss: 283.80717146396637\n",
            "Epoch   5 | Loss: 278.0429422855377\n",
            "Epoch   6 | Loss: 269.4682068824768\n",
            "Epoch   7 | Loss: 263.21771240234375\n",
            "Epoch   8 | Loss: 257.63158988952637\n",
            "Epoch   9 | Loss: 250.20030426979065\n",
            "Epoch  10 | Loss: 245.20080018043518\n",
            "Epoch  11 | Loss: 241.37124586105347\n",
            "Epoch  12 | Loss: 235.3203148841858\n",
            "Epoch  13 | Loss: 230.02207386493683\n",
            "Epoch  14 | Loss: 224.0913325548172\n",
            "Epoch  15 | Loss: 220.73447942733765\n",
            "Epoch  16 | Loss: 215.06210660934448\n",
            "Epoch  17 | Loss: 208.35484409332275\n",
            "Epoch  18 | Loss: 203.74212634563446\n",
            "Epoch  19 | Loss: 199.01745796203613\n",
            "Epoch  20 | Loss: 192.7374346256256\n",
            "Epoch  21 | Loss: 188.345156788826\n",
            "Epoch  22 | Loss: 182.66635704040527\n",
            "Epoch  23 | Loss: 176.3279932141304\n",
            "Epoch  24 | Loss: 172.2190010547638\n",
            "Epoch  25 | Loss: 166.45414674282074\n",
            "Epoch  26 | Loss: 159.6973693370819\n",
            "Epoch  27 | Loss: 154.64819687604904\n",
            "Epoch  28 | Loss: 148.49213409423828\n",
            "Epoch  29 | Loss: 143.6259530186653\n",
            "Epoch  30 | Loss: 137.9177971482277\n",
            "Epoch  31 | Loss: 132.22454258799553\n",
            "Epoch  32 | Loss: 128.702444344759\n",
            "Epoch  33 | Loss: 122.96039840579033\n",
            "Epoch  34 | Loss: 121.18556720018387\n",
            "Epoch  35 | Loss: 114.79630562663078\n",
            "Epoch  36 | Loss: 110.86677330732346\n",
            "Epoch  37 | Loss: 104.77102854847908\n",
            "Epoch  38 | Loss: 100.76840001344681\n",
            "Epoch  39 | Loss: 96.52985939383507\n",
            "Epoch  40 | Loss: 90.77664032578468\n",
            "Epoch  41 | Loss: 88.89906248450279\n",
            "Epoch  42 | Loss: 84.10769525170326\n",
            "Epoch  43 | Loss: 83.181630641222\n",
            "Epoch  44 | Loss: 80.39035403728485\n",
            "Epoch  45 | Loss: 77.85698893666267\n",
            "Epoch  46 | Loss: 71.80780637264252\n",
            "Epoch  47 | Loss: 70.03666062653065\n",
            "Epoch  48 | Loss: 67.66056999564171\n",
            "Epoch  49 | Loss: 64.93380373716354\n"
          ]
        }
      ]
    },
    {
      "cell_type": "code",
      "source": [
        "showPlot({'label': 'sigmoid', 'data': sig_train}, {'label': 'LeakyReLU', 'data': leaky_train})"
      ],
      "metadata": {
        "colab": {
          "base_uri": "https://localhost:8080/",
          "height": 430
        },
        "id": "pd5OQv5OwLbo",
        "outputId": "65c9bdee-08bd-4db1-9ab7-76a49e5e3565"
      },
      "execution_count": null,
      "outputs": [
        {
          "output_type": "display_data",
          "data": {
            "text/plain": [
              "<Figure size 640x480 with 1 Axes>"
            ],
            "image/png": "[encoded data removed]"
          },
          "metadata": {}
        }
      ]
    },
    {
      "cell_type": "code",
      "source": [
        "class DropoutModel(nn.Module):\n",
        "\n",
        "    def __init__(self, input_dim, n_dim, dropout_p = 0.1):\n",
        "        super().__init__()\n",
        "\n",
        "        self.layer1 = nn.Linear(input_dim, n_dim)\n",
        "        self.layer2 = nn.Linear(n_dim, n_dim)\n",
        "        self.layer3 = nn.Linear(n_dim, 10)\n",
        "\n",
        "        self.act = nn.LeakyReLU()\n",
        "        self.dropout = nn.Dropout(p=dropout_p)\n",
        "\n",
        "    def forward(self, x):\n",
        "        x = torch.flatten(x, start_dim=1)\n",
        "        x = self.act(self.layer1(x))\n",
        "        x = self.dropout(x)\n",
        "        x = self.act(self.layer2(x))\n",
        "        x = self.dropout(x)\n",
        "        x = self.layer3(x)\n",
        "\n",
        "        return x"
      ],
      "metadata": {
        "id": "Xkijfw1MwP_F"
      },
      "execution_count": null,
      "outputs": []
    },
    {
      "cell_type": "code",
      "source": [
        "dropoutModel = DropoutModel(3 * 32 * 32, 1024)\n",
        "dropoutModel = dropoutModel.to('cuda')\n",
        "\n",
        "optim_with_drop = Adam(dropoutModel.parameters(), lr=lr)"
      ],
      "metadata": {
        "id": "mLv6FU9xwRrm"
      },
      "execution_count": null,
      "outputs": []
    },
    {
      "cell_type": "code",
      "source": [
        "train_data, test_data = train(dropoutModel, optim_with_drop, trainloader, testloader)"
      ],
      "metadata": {
        "colab": {
          "base_uri": "https://localhost:8080/"
        },
        "id": "RmpenAZ7wT-E",
        "outputId": "f3ff7509-4218-452e-fd8f-d40086208c63"
      },
      "execution_count": null,
      "outputs": [
        {
          "output_type": "stream",
          "name": "stdout",
          "text": [
            "Epoch   0 | Loss: 365.45107793807983\n",
            "Epoch   1 | Loss: 327.81503081321716\n",
            "Epoch   2 | Loss: 314.02528989315033\n",
            "Epoch   3 | Loss: 302.5692434310913\n",
            "Epoch   4 | Loss: 294.48804700374603\n",
            "Epoch   5 | Loss: 289.21356999874115\n",
            "Epoch   6 | Loss: 282.8206949234009\n",
            "Epoch   7 | Loss: 277.88052904605865\n",
            "Epoch   8 | Loss: 272.5906341075897\n",
            "Epoch   9 | Loss: 270.85072922706604\n",
            "Epoch  10 | Loss: 264.48958706855774\n",
            "Epoch  11 | Loss: 260.8664712905884\n",
            "Epoch  12 | Loss: 257.544091463089\n",
            "Epoch  13 | Loss: 252.9753179550171\n",
            "Epoch  14 | Loss: 248.4921394586563\n",
            "Epoch  15 | Loss: 245.60330247879028\n",
            "Epoch  16 | Loss: 242.7519680261612\n",
            "Epoch  17 | Loss: 238.21275424957275\n",
            "Epoch  18 | Loss: 235.6437509059906\n",
            "Epoch  19 | Loss: 232.43118607997894\n",
            "Epoch  20 | Loss: 228.1527118086815\n",
            "Epoch  21 | Loss: 225.17287772893906\n",
            "Epoch  22 | Loss: 221.5818151831627\n",
            "Epoch  23 | Loss: 220.1066396832466\n",
            "Epoch  24 | Loss: 217.69356089830399\n",
            "Epoch  25 | Loss: 213.39953166246414\n",
            "Epoch  26 | Loss: 208.58494532108307\n",
            "Epoch  27 | Loss: 207.52644503116608\n",
            "Epoch  28 | Loss: 204.2510826587677\n",
            "Epoch  29 | Loss: 201.82405400276184\n",
            "Epoch  30 | Loss: 197.6273689866066\n",
            "Epoch  31 | Loss: 196.41546720266342\n",
            "Epoch  32 | Loss: 191.99826431274414\n",
            "Epoch  33 | Loss: 190.09498739242554\n",
            "Epoch  34 | Loss: 186.2489356994629\n",
            "Epoch  35 | Loss: 184.95900309085846\n",
            "Epoch  36 | Loss: 180.5669419169426\n",
            "Epoch  37 | Loss: 180.7274336218834\n",
            "Epoch  38 | Loss: 177.79902654886246\n",
            "Epoch  39 | Loss: 175.26795649528503\n",
            "Epoch  40 | Loss: 170.44775068759918\n",
            "Epoch  41 | Loss: 167.1072879433632\n",
            "Epoch  42 | Loss: 167.00110894441605\n",
            "Epoch  43 | Loss: 165.45316624641418\n",
            "Epoch  44 | Loss: 163.9140304327011\n",
            "Epoch  45 | Loss: 161.51586824655533\n",
            "Epoch  46 | Loss: 158.48775392770767\n",
            "Epoch  47 | Loss: 158.0958554148674\n",
            "Epoch  48 | Loss: 155.46331638097763\n",
            "Epoch  49 | Loss: 152.34124636650085\n"
          ]
        }
      ]
    },
    {
      "cell_type": "code",
      "source": [
        "showPlot({'label': 'train', 'data': train_data}, {'label': 'test', 'data': test_data})"
      ],
      "metadata": {
        "colab": {
          "base_uri": "https://localhost:8080/",
          "height": 430
        },
        "id": "_LlE6R_D0iLN",
        "outputId": "267b5125-cf7c-4783-e697-b5a341463afe"
      },
      "execution_count": null,
      "outputs": [
        {
          "output_type": "display_data",
          "data": {
            "text/plain": [
              "<Figure size 640x480 with 1 Axes>"
            ],
            "image/png": "[encoded data removed]"
          },
          "metadata": {}
        }
      ]
    }
  ]
}